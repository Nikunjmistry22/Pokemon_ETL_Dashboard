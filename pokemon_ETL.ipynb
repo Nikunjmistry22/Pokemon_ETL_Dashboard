{
 "cells": [
  {
   "cell_type": "markdown",
   "id": "f058f69b",
   "metadata": {},
   "source": [
    "# Extraction and Loading in db"
   ]
  },
  {
   "cell_type": "code",
   "execution_count": null,
   "id": "3fca34f5",
   "metadata": {},
   "outputs": [],
   "source": [
    "import json\n",
    "import requests\n",
    "import pandas as pd"
   ]
  },
  {
   "cell_type": "markdown",
   "id": "1b6d5bda",
   "metadata": {},
   "source": [
    "# Pokemon Types"
   ]
  },
  {
   "cell_type": "code",
   "execution_count": 35,
   "id": "43e93312",
   "metadata": {},
   "outputs": [
    {
     "data": {
      "text/plain": [
       "911"
      ]
     },
     "execution_count": 35,
     "metadata": {},
     "output_type": "execute_result"
    }
   ],
   "source": [
    "import requests\n",
    "import pandas as pd\n",
    "from sqlalchemy import create_engine\n",
    "\n",
    "def extract_pokemon_types(limit=911):\n",
    "    url = 'https://pokeapi.co/api/v2/pokemon'\n",
    "    pokemon_data = []\n",
    "    count = 0\n",
    "\n",
    "    while url and count < limit:\n",
    "        response = requests.get(url)\n",
    "\n",
    "        if response.status_code == 200:\n",
    "            pokemon_page = response.json()\n",
    "            results = pokemon_page['results']\n",
    "\n",
    "            for pokemon in results:\n",
    "                if count >= limit:\n",
    "                    break\n",
    "\n",
    "                pokemon_name = pokemon['name']\n",
    "                pokemon_url = pokemon['url']\n",
    "                pokemon_response = requests.get(pokemon_url)\n",
    "\n",
    "                if pokemon_response.status_code == 200:\n",
    "                    pokemon_info = pokemon_response.json()\n",
    "                    types = [type['type']['name'] for type in pokemon_info['types']]\n",
    "                    if len(types) > 1:\n",
    "                        sub_type = types[1]\n",
    "                    else:\n",
    "                        sub_type = None\n",
    "\n",
    "                    pokemon_data.append({'pokemon_name': pokemon_name, 'type': types[0], 'sub_type': sub_type})\n",
    "\n",
    "                count += 1\n",
    "\n",
    "            url = pokemon_page['next']\n",
    "        else:\n",
    "            print('Error:', response.status_code)\n",
    "            break\n",
    "\n",
    "    return pd.DataFrame(pokemon_data)\n",
    "\n",
    "\n",
    "# Example usage\n",
    "types_df = extract_pokemon_types(limit=911)\n",
    "\n",
    "\n",
    "# PostgreSQL connection details\n",
    "db_host = 'yourhost'\n",
    "db_port = 'your_port'\n",
    "db_name = 'your_dbname'\n",
    "db_user = 'your_username'\n",
    "db_password = 'your_password'\n",
    "\n",
    "# Create the SQLAlchemy engine\n",
    "engine = create_engine(f'postgresql://{db_user}:{db_password}@{db_host}:{db_port}/{db_name}')\n",
    "\n",
    "# Store the DataFrame in PostgreSQL\n",
    "types_df.to_sql('pokemon_types', engine, if_exists='replace', index=False)\n",
    "\n"
   ]
  },
  {
   "cell_type": "markdown",
   "id": "f4b270bf",
   "metadata": {},
   "source": [
    "# Pokemon Stats"
   ]
  },
  {
   "cell_type": "code",
   "execution_count": 38,
   "id": "853987ad",
   "metadata": {},
   "outputs": [
    {
     "data": {
      "text/plain": [
       "911"
      ]
     },
     "execution_count": 38,
     "metadata": {},
     "output_type": "execute_result"
    }
   ],
   "source": [
    "\n",
    "from sqlalchemy import create_engine\n",
    "\n",
    "def extract_pokemon_stats(limit=911):\n",
    "    url = 'https://pokeapi.co/api/v2/pokemon'\n",
    "    pokemon_data = []\n",
    "    count = 0\n",
    "\n",
    "    while url and count < limit:\n",
    "        response = requests.get(url)\n",
    "\n",
    "        if response.status_code == 200:\n",
    "            pokemon_page = response.json()\n",
    "            results = pokemon_page['results']\n",
    "\n",
    "            for pokemon in results:\n",
    "                if count >= limit:\n",
    "                    break\n",
    "\n",
    "                pokemon_name = pokemon['name']\n",
    "                pokemon_url = pokemon['url']\n",
    "                pokemon_response = requests.get(pokemon_url)\n",
    "\n",
    "                if pokemon_response.status_code == 200:\n",
    "                    pokemon_info = pokemon_response.json()\n",
    "                    stats = {stat['stat']['name']: stat['base_stat'] for stat in pokemon_info['stats']}\n",
    "                    pokemon_data.append({'pokemon_name': pokemon_name, **stats})\n",
    "\n",
    "                count += 1\n",
    "\n",
    "            url = pokemon_page['next']\n",
    "        else:\n",
    "            print('Error:', response.status_code)\n",
    "            break\n",
    "\n",
    "    return pd.DataFrame(pokemon_data)\n",
    "\n",
    "\n",
    "# Example usage\n",
    "stats_df = extract_pokemon_stats(limit=911)\n",
    "\n",
    "# print(stats_df)\n",
    "\n",
    "\n",
    "# PostgreSQL connection details\n",
    "db_host = 'yourhost'\n",
    "db_port = 'your_port'\n",
    "db_name = 'your_dbname'\n",
    "db_user = 'your_username'\n",
    "db_password = 'your_password'\n",
    "\n",
    "# Create the SQLAlchemy engine\n",
    "engine = create_engine(f'postgresql://{db_user}:{db_password}@{db_host}:{db_port}/{db_name}')\n",
    "\n",
    "# Store the DataFrame in PostgreSQL\n",
    "stats_df.to_sql('pokemon_stats', engine, if_exists='replace', index=False)\n"
   ]
  },
  {
   "cell_type": "markdown",
   "id": "a577a64d",
   "metadata": {},
   "source": [
    "# Pokemon Generations"
   ]
  },
  {
   "cell_type": "code",
   "execution_count": 5,
   "id": "794d645f",
   "metadata": {},
   "outputs": [
    {
     "data": {
      "text/plain": [
       "911"
      ]
     },
     "execution_count": 5,
     "metadata": {},
     "output_type": "execute_result"
    }
   ],
   "source": [
    "import requests\n",
    "import pandas as pd\n",
    "from sqlalchemy import create_engine\n",
    "\n",
    "def extract_pokemon_generation(limit=911):\n",
    "    url = 'https://pokeapi.co/api/v2/pokemon'\n",
    "    pokemon_data = []\n",
    "    count = 0\n",
    "\n",
    "    while url and count < limit:\n",
    "        response = requests.get(url)\n",
    "\n",
    "        if response.status_code == 200:\n",
    "            pokemon_page = response.json()\n",
    "            results = pokemon_page['results']\n",
    "\n",
    "            for pokemon in results:\n",
    "                if count >= limit:\n",
    "                    break\n",
    "\n",
    "                pokemon_name = pokemon['name']\n",
    "                pokemon_url = pokemon['url']\n",
    "                pokemon_response = requests.get(pokemon_url)\n",
    "\n",
    "                if pokemon_response.status_code == 200:\n",
    "                    pokemon_info = pokemon_response.json()\n",
    "                    species_url = pokemon_info['species']['url']\n",
    "                    species_response = requests.get(species_url)\n",
    "\n",
    "                    if species_response.status_code == 200:\n",
    "                        species_info = species_response.json()\n",
    "                        generation = species_info['generation']['name']\n",
    "                        pokemon_data.append({'pokemon_name': pokemon_name, 'generation': generation})\n",
    "\n",
    "                count += 1\n",
    "\n",
    "            url = pokemon_page['next']\n",
    "        else:\n",
    "            print('Error:', response.status_code)\n",
    "            break\n",
    "\n",
    "    return pd.DataFrame(pokemon_data)\n",
    "\n",
    "\n",
    "# Example usage\n",
    "gen_df = extract_pokemon_generation(limit=911)\n",
    "\n",
    "# print(pokemon_df)\n",
    "\n",
    "\n",
    "# PostgreSQL connection details\n",
    "db_host = 'yourhost'\n",
    "db_port = 'your_port'\n",
    "db_name = 'your_dbname'\n",
    "db_user = 'your_username'\n",
    "db_password = 'your_password'\n",
    "\n",
    "# Create the SQLAlchemy engine\n",
    "engine = create_engine(f'postgresql://{db_user}:{db_password}@{db_host}:{db_port}/{db_name}')\n",
    "\n",
    "# Store the DataFrame in PostgreSQL\n",
    "gen_df.to_sql('pokemon_generation', engine, if_exists='replace', index=False)\n",
    "\n"
   ]
  },
  {
   "cell_type": "markdown",
   "id": "9d9fbd6b",
   "metadata": {},
   "source": [
    "# Pokemon Evalutions"
   ]
  },
  {
   "cell_type": "code",
   "execution_count": 23,
   "id": "42d4d368",
   "metadata": {},
   "outputs": [
    {
     "name": "stdout",
     "output_type": "stream",
     "text": [
      "        stage_1     stage_2      stage_3 stage_4 stage_5 stage_6 stage_7  \\\n",
      "0     bulbasaur     ivysaur     venusaur    None    None    None    None   \n",
      "3    charmander  charmeleon    charizard    None    None    None    None   \n",
      "6      squirtle   wartortle    blastoise    None    None    None    None   \n",
      "9      caterpie     metapod   butterfree    None    None    None    None   \n",
      "12       weedle      kakuna     beedrill    None    None    None    None   \n",
      "..          ...         ...          ...     ...     ...     ...     ...   \n",
      "896   spectrier        None         None    None    None    None    None   \n",
      "897     calyrex        None         None    None    None    None    None   \n",
      "904    enamorus        None         None    None    None    None    None   \n",
      "905  sprigatito   floragato  meowscarada    None    None    None    None   \n",
      "908     fuecoco    crocalor   skeledirge    None    None    None    None   \n",
      "\n",
      "    stage_8 stage_9  \n",
      "0      None    None  \n",
      "3      None    None  \n",
      "6      None    None  \n",
      "9      None    None  \n",
      "12     None    None  \n",
      "..      ...     ...  \n",
      "896    None    None  \n",
      "897    None    None  \n",
      "904    None    None  \n",
      "905    None    None  \n",
      "908    None    None  \n",
      "\n",
      "[471 rows x 9 columns]\n"
     ]
    },
    {
     "data": {
      "text/plain": [
       "471"
      ]
     },
     "execution_count": 23,
     "metadata": {},
     "output_type": "execute_result"
    }
   ],
   "source": [
    "import requests\n",
    "import pandas as pd\n",
    "\n",
    "def extract_pokemon_evolution_chain(limit=911):\n",
    "    url = 'https://pokeapi.co/api/v2/pokemon'\n",
    "    evolution_chain_data = []\n",
    "    count = 0\n",
    "\n",
    "    while url and count < limit:\n",
    "        response = requests.get(url)\n",
    "\n",
    "        if response.status_code == 200:\n",
    "            pokemon_page = response.json()\n",
    "            results = pokemon_page['results']\n",
    "\n",
    "            for pokemon in results:\n",
    "                if count >= limit:\n",
    "                    break\n",
    "\n",
    "                pokemon_name = pokemon['name']\n",
    "                pokemon_url = pokemon['url']\n",
    "                pokemon_response = requests.get(pokemon_url)\n",
    "\n",
    "                if pokemon_response.status_code == 200:\n",
    "                    pokemon_info = pokemon_response.json()\n",
    "                    species_url = pokemon_info['species']['url']\n",
    "                    species_response = requests.get(species_url)\n",
    "\n",
    "                    if species_response.status_code == 200:\n",
    "                        species_info = species_response.json()\n",
    "                        evolution_chain_url = species_info['evolution_chain']['url']\n",
    "                        evolution_chain_response = requests.get(evolution_chain_url)\n",
    "\n",
    "                        if evolution_chain_response.status_code == 200:\n",
    "                            evolution_chain_info = evolution_chain_response.json()\n",
    "                            chain = evolution_chain_info['chain']\n",
    "                            evolution_stages = extract_evolution_chain_data(chain)\n",
    "                            evolution_chain_data.append(evolution_stages)\n",
    "\n",
    "                count += 1\n",
    "\n",
    "            url = pokemon_page['next']\n",
    "        else:\n",
    "            print('Error:', response.status_code)\n",
    "            break\n",
    "\n",
    "    return evolution_chain_data\n",
    "\n",
    "\n",
    "def extract_evolution_chain_data(chain):\n",
    "    stages = [chain['species']['name']]\n",
    "\n",
    "    if 'evolves_to' in chain:\n",
    "        evolves_to = chain['evolves_to']\n",
    "        for evolution in evolves_to:\n",
    "            stages.extend(extract_evolution_chain_data(evolution))\n",
    "\n",
    "    return stages\n",
    "\n",
    "\n",
    "# Example usage\n",
    "evolution_chain_data = extract_pokemon_evolution_chain(limit=911)\n",
    "\n",
    "max_stages = max(len(chain) for chain in evolution_chain_data)\n",
    "columns = [f'stage_{i}' for i in range(1, max_stages + 1)]\n",
    "\n",
    "evolution_chain_df = pd.DataFrame(evolution_chain_data, columns=columns)\n",
    "evolution_chain_df.drop_duplicates(inplace=True)\n",
    "print(evolution_chain_df)\n",
    "\n",
    "\n",
    "# PostgreSQL connection details\n",
    "db_host = 'yourhost'\n",
    "db_port = 'your_port'\n",
    "db_name = 'your_dbname'\n",
    "db_user = 'your_username'\n",
    "db_password = 'your_password'\n",
    "\n",
    "# Create the SQLAlchemy engine\n",
    "engine = create_engine(f'postgresql://{db_user}:{db_password}@{db_host}:{db_port}/{db_name}')\n",
    "\n",
    "# Store the DataFrame in PostgreSQL\n",
    "evolution_chain_df.to_sql('pokemon_evolution_chart', engine, if_exists='replace', index=False)\n"
   ]
  },
  {
   "cell_type": "code",
   "execution_count": 24,
   "id": "e1241440",
   "metadata": {},
   "outputs": [
    {
     "data": {
      "text/plain": [
       "161"
      ]
     },
     "execution_count": 24,
     "metadata": {},
     "output_type": "execute_result"
    }
   ],
   "source": [
    "from sqlalchemy import create_engine\n",
    "\n",
    "\n",
    "# PostgreSQL connection details\n",
    "db_host = 'yourhost'\n",
    "db_port = 'your_port'\n",
    "db_name = 'your_dbname'\n",
    "db_user = 'your_username'\n",
    "db_password = 'your_password'\n",
    "\n",
    "# Create the SQLAlchemy engine\n",
    "engine = create_engine(f'postgresql://{db_user}:{db_password}@{db_host}:{db_port}/{db_name}')\n",
    "\n",
    "\n",
    "# Execute the SQL query and store the result in a DataFrame\n",
    "query = \"SELECT stage_1 FROM pokemon_evolution_chart WHERE stage_2 IS NULL\"\n",
    "result_df = pd.read_sql(query, engine)\n",
    "\n",
    "# Store the DataFrame as a new table in PostgreSQL\n",
    "result_df.to_sql('pokemon_stage_1', engine, if_exists='replace', index=False)"
   ]
  },
  {
   "cell_type": "code",
   "execution_count": 27,
   "id": "7143ba85",
   "metadata": {},
   "outputs": [
    {
     "data": {
      "text/plain": [
       "189"
      ]
     },
     "execution_count": 27,
     "metadata": {},
     "output_type": "execute_result"
    }
   ],
   "source": [
    "from sqlalchemy import create_engine\n",
    "\n",
    "# PostgreSQL connection details\n",
    "db_host = 'yourhost'\n",
    "db_port = 'your_port'\n",
    "db_name = 'your_dbname'\n",
    "db_user = 'your_username'\n",
    "db_password = 'your_password'\n",
    "\n",
    "# Create the SQLAlchemy engine\n",
    "engine = create_engine(f'postgresql://{db_user}:{db_password}@{db_host}:{db_port}/{db_name}')\n",
    "\n",
    "\n",
    "# Execute the SQL query and store the result in a DataFrame\n",
    "query=\"select stage_1,stage_2 from pokemon_evolution_chart where stage_3 is null and stage_2 is not null union all \\\n",
    "select stage_1,concat(stage_2,', ',stage_3,', ',stage_4,', ',stage_5,', ',stage_6,', ',stage_7,', ',stage_8,', ',stage_9) \\\n",
    "as stage_2 from pokemon_evolution_chart where stage_1 is not null and stage_2 is not null and stage_3 is not null \\\n",
    "and  stage_4 is not null and stage_5 is not null and stage_6 is not null and stage_7 is not null and \\\n",
    "stage_8 is not null and  stage_9 is not null\"\n",
    "result_df = pd.read_sql(query, engine)\n",
    "\n",
    "# Store the DataFrame as a new table in PostgreSQL\n",
    "result_df.to_sql('pokemon_stage_2', engine, if_exists='replace', index=False)"
   ]
  },
  {
   "cell_type": "code",
   "execution_count": 28,
   "id": "2c445540",
   "metadata": {},
   "outputs": [
    {
     "data": {
      "text/plain": [
       "115"
      ]
     },
     "execution_count": 28,
     "metadata": {},
     "output_type": "execute_result"
    }
   ],
   "source": [
    "from sqlalchemy import create_engine\n",
    "\n",
    "# PostgreSQL connection details\n",
    "db_host = 'yourhost'\n",
    "db_port = 'your_port'\n",
    "db_name = 'your_dbname'\n",
    "db_user = 'your_username'\n",
    "db_password = 'your_password'\n",
    "\n",
    "# Create the SQLAlchemy engine\n",
    "engine = create_engine(f'postgresql://{db_user}:{db_password}@{db_host}:{db_port}/{db_name}')\n",
    "\n",
    "\n",
    "# Execute the SQL query and store the result in a DataFrame\n",
    "query=\"select stage_1,stage_2,stage_3 from pokemon_evolution_chart \\\n",
    "where stage_4 is null and stage_2 is not null and stage_3 is not null\"\n",
    "result_df = pd.read_sql(query, engine)\n",
    "\n",
    "# Store the DataFrame as a new table in PostgreSQL\n",
    "result_df.to_sql('pokemon_stage_3', engine, if_exists='replace', index=False)"
   ]
  },
  {
   "cell_type": "code",
   "execution_count": 29,
   "id": "557d3d67",
   "metadata": {},
   "outputs": [
    {
     "data": {
      "text/plain": [
       "5"
      ]
     },
     "execution_count": 29,
     "metadata": {},
     "output_type": "execute_result"
    }
   ],
   "source": [
    "from sqlalchemy import create_engine\n",
    "\n",
    "\n",
    "# PostgreSQL connection details\n",
    "db_host = 'yourhost'\n",
    "db_port = 'your_port'\n",
    "db_name = 'your_dbname'\n",
    "db_user = 'your_username'\n",
    "db_password = 'your_password'\n",
    "# Create the SQLAlchemy engine\n",
    "engine = create_engine(f'postgresql://{db_user}:{db_password}@{db_host}:{db_port}/{db_name}')\n",
    "\n",
    "\n",
    "# Execute the SQL query and store the result in a DataFrame\n",
    "query=\"select stage_1,stage_2,stage_3,stage_4 from pokemon_evolution_chart \\\n",
    "where stage_5 is null and stage_2 is not null and stage_3 is not null and stage_4 is not null\"\n",
    "result_df = pd.read_sql(query, engine)\n",
    "\n",
    "# Store the DataFrame as a new table in PostgreSQL\n",
    "result_df.to_sql('pokemon_stage_4', engine, if_exists='replace', index=False)"
   ]
  },
  {
   "cell_type": "markdown",
   "id": "9a0ce5a4",
   "metadata": {},
   "source": [
    "# Pokemon Images"
   ]
  },
  {
   "cell_type": "code",
   "execution_count": 19,
   "id": "3b2911bd",
   "metadata": {},
   "outputs": [
    {
     "data": {
      "text/plain": [
       "911"
      ]
     },
     "execution_count": 19,
     "metadata": {},
     "output_type": "execute_result"
    }
   ],
   "source": [
    "import requests\n",
    "import pandas as pd\n",
    "from sqlalchemy import create_engine\n",
    "\n",
    "\n",
    "def extract_pokemon_images(limit=911):\n",
    "    url = 'https://pokeapi.co/api/v2/pokemon'\n",
    "    pokemon_data = []\n",
    "    count = 0\n",
    "\n",
    "    while url and count < limit:\n",
    "        response = requests.get(url)\n",
    "\n",
    "        if response.status_code == 200:\n",
    "            pokemon_page = response.json()\n",
    "            results = pokemon_page['results']\n",
    "\n",
    "            for pokemon in results:\n",
    "                if count >= limit:\n",
    "                    break\n",
    "\n",
    "                pokemon_name = pokemon['name']\n",
    "                pokemon_url = pokemon['url']\n",
    "                pokemon_response = requests.get(pokemon_url)\n",
    "\n",
    "                if pokemon_response.status_code == 200:\n",
    "                    pokemon_info = pokemon_response.json()\n",
    "                    image_url = pokemon_info['sprites']['front_default']\n",
    "                    pokemon_data.append({'pokemon_name': pokemon_name, 'image': image_url})\n",
    "\n",
    "                count += 1\n",
    "\n",
    "            url = pokemon_page['next']\n",
    "        else:\n",
    "            print('Error:', response.status_code)\n",
    "            break\n",
    "\n",
    "    return pd.DataFrame(pokemon_data)\n",
    "\n",
    "\n",
    "# Example usage\n",
    "pokemon_image_df = extract_pokemon_images(limit=911)\n",
    "\n",
    "# PostgreSQL connection details\n",
    "db_host = 'yourhost'\n",
    "db_port = 'your_port'\n",
    "db_name = 'your_dbname'\n",
    "db_user = 'your_username'\n",
    "db_password = 'your_password'\n",
    "\n",
    "# Create the SQLAlchemy engine\n",
    "engine = create_engine(f'postgresql://{db_user}:{db_password}@{db_host}:{db_port}/{db_name}')\n",
    "\n",
    "# Store the DataFrame in PostgreSQL\n",
    "pokemon_image_df.to_sql('pokemon_image', engine, if_exists='replace', index=False)\n"
   ]
  }
 ],
 "metadata": {
  "kernelspec": {
   "display_name": "Python 3 (ipykernel)",
   "language": "python",
   "name": "python3"
  },
  "language_info": {
   "codemirror_mode": {
    "name": "ipython",
    "version": 3
   },
   "file_extension": ".py",
   "mimetype": "text/x-python",
   "name": "python",
   "nbconvert_exporter": "python",
   "pygments_lexer": "ipython3",
   "version": "3.9.13"
  }
 },
 "nbformat": 4,
 "nbformat_minor": 5
}
